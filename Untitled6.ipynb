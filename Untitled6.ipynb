{
  "nbformat": 4,
  "nbformat_minor": 0,
  "metadata": {
    "colab": {
      "provenance": []
    },
    "kernelspec": {
      "name": "python3",
      "display_name": "Python 3"
    },
    "language_info": {
      "name": "python"
    }
  },
  "cells": [
    {
      "cell_type": "markdown",
      "source": [
        "# Files, exceptional handling, logging and memory management\n",
        "\n",
        "1. what is the difference between interpreted and compiled languages\n",
        "- the main difference between interpreted and compiled languages lies in how they execute code:\n",
        "- compiled languages the code is translated into machine code before execution by a compiler. this machine code is then run by the computer's hardware ex. c and c++.\n",
        "- interpreted languages the code is translated line by line at runtime by an interpreter. no sepereate compilation step is needed ex. python and javascript.\n",
        "\n",
        "2. what is exception handling in python\n",
        "-  it is a machanism that allows a program to handle runtime errors gracefully instead of crashing. it is done using try, except, else, and finally blocks.\n",
        "\n",
        "3. what is the purpose of the finally block in exception handling\n",
        "- it is used to define code that will always execute, regardless of whether an exception occurs or not. it is typically used for cleaning operations, such as closing files, releasing resources, or disconnecting from databases.\n",
        "\n",
        "4. what is logging in python\n",
        "- it is a way to track events that happen when a program runs. it is used for debugging, monitoring, and keeping a record of runtime events. python provides a built in logging module to handle logging efficiently.\n",
        "\n",
        "5. what is the significance of the __del__ method in python\n",
        "- it is called a destructor. it is automatically invoked when an object is about to be destroyed. this method is mainly used for cleanup operations, such  as closing file handles, releasing memory, or disconnecting from database.\n",
        "\n",
        "6. what is difference between import and from import in python\n",
        "- both import and fromm import are used to include external modules, but they work differently in terms of how they import and use the modules content.\n",
        "\n",
        "7. how can you handle multiple exceptions in python\n",
        "- python allows handling multiple exceptions in different ways using try except blocks. using multiple except blocks, handling multiple exceptions in a single except block, catching all exceptions with exception, using else and finally.\n",
        "\n",
        "8. what is the purpose of the with statement when handling files in python\n",
        "- it is used to simplify the process of working with files or other resources that need proper setup and cleanup. it is mainly used to ensure that resources like file, database, connection, or network sockets are automatically closed or released after their use, even if an exception occurs.\n",
        "\n",
        "9. what is the process between multithreading and multiprocessing\n",
        "- multithreading: runs multiple threads within the same process, shares memory between threads, threads run concurrently, lower overhead.\n",
        "multiprocessing: run multiple process each between its own memory space, each process has its own memory, true parallel execution on multiple cpu cores, higher overhead due to seprate memory allocation.\n",
        "\n",
        "10. what are the advantages of using logging in a program\n",
        "- logging  is an essential tool for monitoring, debugging, and maintaining a python application. debugging and troubleshooting, controlled output with log levels, persistent records, better code maintainability, multithreading and multiprocess support.\n",
        "\n",
        "11. what is memory management in python\n",
        "- it refers to how the python interpreter allocates, uses, and deallocates memory during program execution. python has an automatic memory management system, which includes refernce counting, garbage collectin , and memory pools to efficiently handle memory.\n",
        "\n",
        "12. what are the basic steps involved in exception handling\n",
        "- wrap risky code inside a try block.\n",
        "- catch exception using except blocks\n",
        "- optionally, use else for code that runs if no exception occurs.\n",
        "- use finally to execute cleanup code.\n",
        "\n",
        "13. what is memory management in python\n",
        "- it is the process of allocating, tracking, and deallocting memory automatically during program execution. python has a built in memory management system that includes reference counting, garbage collection, and memory pools to efficiently handle memory usage.\n",
        "\n",
        "14. what is the role of try and except in exception handling\n",
        "- try and except are used for exception handling, which helps pervent program crashes when an error occurs. instead of terminating the program, the error is caught and handled gracefully.\n",
        "\n",
        "15. how does pythons garbage collection system works\n",
        "- it has automatic garbage collection system that manages memory efficiently by deleting unused objects.\n",
        "\n",
        "16. what is the purpose of else block in exceptional handling\n",
        "- the else block in exceptional handling is executed only if no exception occurs in the try block. it helps to seperate the code that runs only when no errors happen, making the program more readable and structured.\n",
        "\n",
        "17. what are the common logging levels in python\n",
        "- pythons logging module provides five standard logging level. DEBUG, INFO, WARNING, ERROR, CRITICAL.\n",
        "\n",
        "18. what is the difference between os.fork() and multiprocessing\n",
        "- use os.fork() when you need low level control and are working on unix based systems.\n",
        "- use multiprocessing for a crossplatform, scalable solution with built in process management.\n",
        "\n",
        "19. what is the importance of closing a file\n",
        "- closing a file in python is crucial to ensure efficient resoyrce management and prevent potential issues like data corruption or memory leaks.\n",
        "\n",
        "\n",
        "20. what is the differnce between fileread() and filereadline()\n",
        "- use  read() if you need the entire file or a fixed number of bytes.\n",
        "- use readline() if you need to process files line by line to save memory.\n",
        "\n",
        "21. what is the logging module\n",
        "- it is used for tracking events, debugging, and recording program execution. it helps developers monitor errors, warnings, and general information about how an application is running\n",
        "\n",
        "22. what is the os module in python used for in file handling\n",
        "- it provides fucntion to interact with the operating system, including file handling operations like creating, deleting, renaming, and navigating directories.\n",
        "\n",
        "23. what are the challanges associated with memory management in python\n",
        "- reference cycles\n",
        "- high memory usage for large data structures\n",
        "- memory fregmantation\n",
        "- global interpreter lock limits parallel processing\n",
        "- garbage collection overhead\n",
        "\n",
        "24. how do you raise an exception manually\n",
        "- you can manually raise an exception using the raise keyowrds. this is useful when you want to handle custom error scenarios, enforce input validation, or stop execution due to unexpected conditions.\n",
        "\n",
        "25. why is it important to use multithreading in certain applications\n",
        "- it allows a program to execute multiple tast simultaneously within the same process. it is useful in applictions that requires responsiveness, concurrency, or efficient cpu usage.\n",
        "\n"
      ],
      "metadata": {
        "id": "f95ENqzMs1aD"
      }
    },
    {
      "cell_type": "code",
      "source": [
        "# open a file for writing in python and write a string to it\n",
        "\n",
        "with open(\"example.txt\", \"w\") as file:\n",
        "  file.write(\"hello, this is a test string.\")\n",
        "\n",
        "with open(\"example.txt\", \"r\") as file:\n",
        "  content = file.read()\n",
        "  print(\"file content:\", content)\n"
      ],
      "metadata": {
        "colab": {
          "base_uri": "https://localhost:8080/"
        },
        "id": "dyWjkpEx9YJu",
        "outputId": "69b98ec7-136c-4463-ea60-298f53a42fab"
      },
      "execution_count": 6,
      "outputs": [
        {
          "output_type": "stream",
          "name": "stdout",
          "text": [
            "file content: hello, this is a test string.\n"
          ]
        }
      ]
    },
    {
      "cell_type": "code",
      "source": [
        "# open a file, read its content line by line\n",
        "\n",
        "with open (\"example.txt\", \"r\") as file:\n",
        "  for line in file:\n",
        "    print(line.strip())"
      ],
      "metadata": {
        "colab": {
          "base_uri": "https://localhost:8080/"
        },
        "id": "CITpmzwi9adS",
        "outputId": "763050c6-9299-46f9-8a73-f06f53aa87b0"
      },
      "execution_count": 7,
      "outputs": [
        {
          "output_type": "stream",
          "name": "stdout",
          "text": [
            "hello, this is a test string.\n"
          ]
        }
      ]
    },
    {
      "cell_type": "code",
      "source": [
        "# handling a case where the file doesnt exist while trying to open it for reading\n",
        "\n",
        "try:\n",
        "  with open(\"nonexistent.txt\", \"r\") as file:\n",
        "    content = file.read()\n",
        "    print(\"file content:\", content)\n",
        "except FileNotFoundError:\n",
        "  print(\"file not found\")"
      ],
      "metadata": {
        "colab": {
          "base_uri": "https://localhost:8080/"
        },
        "id": "CihTGLkB9aoB",
        "outputId": "a4d718c0-154a-434b-b848-711edceca714"
      },
      "execution_count": 8,
      "outputs": [
        {
          "output_type": "stream",
          "name": "stdout",
          "text": [
            "file not found\n"
          ]
        }
      ]
    },
    {
      "cell_type": "code",
      "source": [
        "# python script to read from one file and write its content to another file\n",
        "\n",
        "with open(\"source.txt\", \"r\") as source, open(\"destination.txt\", \"w\") as destination:\n",
        "  destination.write(source.read())\n",
        "\n",
        "  print(\"file copied successfully\")\n",
        "\n"
      ],
      "metadata": {
        "colab": {
          "base_uri": "https://localhost:8080/",
          "height": 219
        },
        "id": "dbf8H6ZW9awA",
        "outputId": "9d1350c6-8542-4131-bb56-0ae643d1a1ba"
      },
      "execution_count": 12,
      "outputs": [
        {
          "output_type": "error",
          "ename": "FileNotFoundError",
          "evalue": "[Errno 2] No such file or directory: 'source.txt'",
          "traceback": [
            "\u001b[0;31m---------------------------------------------------------------------------\u001b[0m",
            "\u001b[0;31mFileNotFoundError\u001b[0m                         Traceback (most recent call last)",
            "\u001b[0;32m<ipython-input-12-74e6993aa784>\u001b[0m in \u001b[0;36m<cell line: 0>\u001b[0;34m()\u001b[0m\n\u001b[1;32m      1\u001b[0m \u001b[0;31m# python script to read from one file and write its content to another file\u001b[0m\u001b[0;34m\u001b[0m\u001b[0;34m\u001b[0m\u001b[0m\n\u001b[1;32m      2\u001b[0m \u001b[0;34m\u001b[0m\u001b[0m\n\u001b[0;32m----> 3\u001b[0;31m \u001b[0;32mwith\u001b[0m \u001b[0mopen\u001b[0m\u001b[0;34m(\u001b[0m\u001b[0;34m\"source.txt\"\u001b[0m\u001b[0;34m,\u001b[0m \u001b[0;34m\"r\"\u001b[0m\u001b[0;34m)\u001b[0m \u001b[0;32mas\u001b[0m \u001b[0msource\u001b[0m\u001b[0;34m,\u001b[0m \u001b[0mopen\u001b[0m\u001b[0;34m(\u001b[0m\u001b[0;34m\"destination.txt\"\u001b[0m\u001b[0;34m,\u001b[0m \u001b[0;34m\"w\"\u001b[0m\u001b[0;34m)\u001b[0m \u001b[0;32mas\u001b[0m \u001b[0mdestination\u001b[0m\u001b[0;34m:\u001b[0m\u001b[0;34m\u001b[0m\u001b[0;34m\u001b[0m\u001b[0m\n\u001b[0m\u001b[1;32m      4\u001b[0m   \u001b[0mdestination\u001b[0m\u001b[0;34m.\u001b[0m\u001b[0mwrite\u001b[0m\u001b[0;34m(\u001b[0m\u001b[0msource\u001b[0m\u001b[0;34m.\u001b[0m\u001b[0mread\u001b[0m\u001b[0;34m(\u001b[0m\u001b[0;34m)\u001b[0m\u001b[0;34m)\u001b[0m\u001b[0;34m\u001b[0m\u001b[0;34m\u001b[0m\u001b[0m\n\u001b[1;32m      5\u001b[0m \u001b[0;34m\u001b[0m\u001b[0m\n",
            "\u001b[0;31mFileNotFoundError\u001b[0m: [Errno 2] No such file or directory: 'source.txt'"
          ]
        }
      ]
    },
    {
      "cell_type": "code",
      "source": [
        "# how to catch and handle a divison by zero error\n",
        "\n",
        "try:\n",
        "  num = int(input(\"enter a number: \"))\n",
        "  result = num / 0\n",
        "  print(\"result:\", result)\n",
        "except ZeroDivisionError:\n",
        "  print(\"error: division by zero is not allowed.\")"
      ],
      "metadata": {
        "colab": {
          "base_uri": "https://localhost:8080/"
        },
        "id": "HbueQov-9a4c",
        "outputId": "28fcb54b-9643-4698-d5c1-de3c2fa55394"
      },
      "execution_count": 14,
      "outputs": [
        {
          "output_type": "stream",
          "name": "stdout",
          "text": [
            "enter a number: 3\n",
            "error: division by zero is not allowed.\n"
          ]
        }
      ]
    },
    {
      "cell_type": "code",
      "source": [
        "# log an error message when a division by zero exception occurs\n",
        "\n",
        "import logging\n",
        "\n",
        "logging.basicConfig(filename=\"error.log\", level=logging.ERROR, format=\"%(asctime)s - %(levelname)s - %(message)s\")\n",
        "\n",
        "def divide(a, b):\n",
        "  try:\n",
        "    result = a / b\n",
        "    return result\n",
        "  except ZeroDivisionError:\n",
        "    logging.error(\"division by zero error\")\n",
        "    return None\n",
        "\n",
        "divide(10, 0)\n"
      ],
      "metadata": {
        "colab": {
          "base_uri": "https://localhost:8080/"
        },
        "id": "jeNO8ffM9bAf",
        "outputId": "00f04d99-ba63-4213-c857-0f7d4b18e119"
      },
      "execution_count": 16,
      "outputs": [
        {
          "output_type": "stream",
          "name": "stderr",
          "text": [
            "ERROR:root:division by zero error\n"
          ]
        }
      ]
    },
    {
      "cell_type": "code",
      "source": [
        "# how do you log information at different levels\n",
        "\n",
        "import logging\n",
        "\n",
        "logging.basicConfig(filename=\"info.log\", level=logging.INFO, format=\"%(asctime)s - %(levelname)s - %(message)s\")\n",
        "\n",
        "logging.debug(\"this is a debug message\")\n",
        "logging.info(\"this is an info message\")\n",
        "logging.warning(\"this is a warning message\")\n",
        "logging.error(\"this is an error message\")\n",
        "\n",
        "print(\"logging messages have been recorded in 'app.log'.\")"
      ],
      "metadata": {
        "colab": {
          "base_uri": "https://localhost:8080/"
        },
        "id": "VkwhzSBP9bJZ",
        "outputId": "be3b6660-c012-45b1-bd47-5de414379a1e"
      },
      "execution_count": 18,
      "outputs": [
        {
          "output_type": "stream",
          "name": "stderr",
          "text": [
            "WARNING:root:this is a warning message\n",
            "ERROR:root:this is an error message\n"
          ]
        },
        {
          "output_type": "stream",
          "name": "stdout",
          "text": [
            "logging messages have been recorded in 'app.log'.\n"
          ]
        }
      ]
    },
    {
      "cell_type": "code",
      "source": [
        "def read_file(filename):\n",
        " try:\n",
        "  with open(filename, \"r\") as file:\n",
        "    content = file.read()\n",
        "    print(\"file content:\\n\", content)\n",
        " except FileNotFoundError:\n",
        "  print(\"error: the file was not found\")\n",
        " except PermissionError:\n",
        "  print(\"error: you dont have permission to access the file\")\n",
        " except Exception as e:\n",
        "  print(\"error:\", str(e))\n",
        "\n",
        "filename = \"non_existing_file.txt\"\n",
        "read_file(filename)"
      ],
      "metadata": {
        "colab": {
          "base_uri": "https://localhost:8080/"
        },
        "id": "Xzq6iXH59bRW",
        "outputId": "f2f98fc5-65f8-494c-bf4b-e6a0dfa7a4fd"
      },
      "execution_count": 21,
      "outputs": [
        {
          "output_type": "stream",
          "name": "stdout",
          "text": [
            "error: the file was not found\n"
          ]
        }
      ]
    },
    {
      "cell_type": "code",
      "source": [
        "# read a file line by line and store its content in a list\n",
        "def read_file_lines(filename):\n",
        "  try:\n",
        "    with open(filename, \"r\") as file:\n",
        "      lines = file.readlines()\n",
        "      return lines\n",
        "  except FileNotFoundError:\n",
        "    print(\"error: the file was not found\")\n",
        "    return []\n",
        "  except exception as e:\n",
        "    print(f\"an unexpected error occured: {e}\")\n",
        "    return []\n",
        "\n",
        "filename = \"example.txt\"\n",
        "\n",
        "with open(filename, \"w\") as f:\n",
        "  f.write(\"hello, world\\n\")\n",
        "  f.write(\"python is grat.\\n\")\n",
        "  f.write(\"file handling is important.\\n\")\n",
        "\n",
        "lines_list = read_file_lines(filename)\n",
        "\n",
        "for line in lines_list:\n",
        "  print(line.strip())"
      ],
      "metadata": {
        "colab": {
          "base_uri": "https://localhost:8080/"
        },
        "id": "z2JZlESv9bZs",
        "outputId": "0248a6e7-50e1-436c-b22f-ba2649a6bba7"
      },
      "execution_count": 22,
      "outputs": [
        {
          "output_type": "stream",
          "name": "stdout",
          "text": [
            "hello, world\n",
            "python is grat.\n",
            "file handling is important.\n"
          ]
        }
      ]
    },
    {
      "cell_type": "code",
      "source": [
        "# append data to an existing file\n",
        "\n",
        "def append_to_file(filename, data):\n",
        "  try:\n",
        "    with open(filename, \"a\") as file:\n",
        "      file.write(data + \"\\n\")\n",
        "      print(\"data successfully appended to the file.\")\n",
        "  except FileNotFoundError:\n",
        "    print(\"an error occured: {e}\")\n",
        "\n",
        "filename = \"sample.txt\"\n",
        "\n",
        "with open(filename, \"w\") as f:\n",
        "  f.write(\"orignal content.\\n\")\n",
        "\n",
        "\n",
        "append_to_file(filename, \"this is new appended content.\")\n",
        "append_to_file(filename, \"appending another line.\")\n",
        "\n",
        "with open(filename, \"r\") as f:\n",
        "  content = f.read()\n",
        "  print(\"file content:\\n\", content)"
      ],
      "metadata": {
        "colab": {
          "base_uri": "https://localhost:8080/"
        },
        "id": "8qKlsLAI9bg-",
        "outputId": "e3427c15-74a8-4931-da37-bd5db6ff8a75"
      },
      "execution_count": 23,
      "outputs": [
        {
          "output_type": "stream",
          "name": "stdout",
          "text": [
            "data successfully appended to the file.\n",
            "data successfully appended to the file.\n",
            "file content:\n",
            " orignal content.\n",
            "this is new appended content.\n",
            "appending another line.\n",
            "\n"
          ]
        }
      ]
    },
    {
      "cell_type": "code",
      "source": [
        "# python program that uses a try except block to handle an error\n",
        "def access_dictionary_key(data, key):\n",
        "  try:\n",
        "    value = data[key]\n",
        "    print(f\"value for '{key}': {value}\")\n",
        "  except KeyError:\n",
        "    print(f\"error: the key '{key}' not found in the dictionary.\")\n",
        "\n",
        "\n",
        "sample_dict = {\"name\": \"john\", \"age\": 25, \"city\": \"new york\"}\n",
        "\n",
        "access_dictionary_key(sample_dict, \"name\")\n",
        "access_dictionary_key(sample_dict, \"age\")\n",
        "access_dictionary_key(sample_dict, \"country\")\n"
      ],
      "metadata": {
        "colab": {
          "base_uri": "https://localhost:8080/"
        },
        "id": "iQSB9W-29bpc",
        "outputId": "a7215d9e-899a-4ed9-d531-61c2259b4346"
      },
      "execution_count": 24,
      "outputs": [
        {
          "output_type": "stream",
          "name": "stdout",
          "text": [
            "value for 'name': john\n",
            "value for 'age': 25\n",
            "error: the key 'country' not found in the dictionary.\n"
          ]
        }
      ]
    },
    {
      "cell_type": "code",
      "source": [
        "# program that demonstrating using multiple except blocks to handle different types of exceptions\n",
        "\n",
        "def multiple_exception_handling(a, b, index):\n",
        "  try:\n",
        "    result = a / b\n",
        "    numbers = [10, 20, 30]\n",
        "    value = numbers[index]\n",
        "    print(\"result:\", result)\n",
        "    print(\"value:\", value)\n",
        "  except ZeroDivisionError:\n",
        "    print(\"error: division by zero\")\n",
        "  except IndexError:\n",
        "    print(\"error: index out of range\")\n",
        "  except Exception as e:\n",
        "    print(\"an unexpected error occured: {e}\")\n",
        "\n",
        "\n",
        "multiple_exception_handling(10, 2, 1)\n",
        "multiple_exception_handling(10, 0, 2)\n",
        "multiple_exception_handling(10, 2, 3)\n",
        "\n",
        "\n"
      ],
      "metadata": {
        "colab": {
          "base_uri": "https://localhost:8080/"
        },
        "id": "GEhAPT_K9bxc",
        "outputId": "6eb9a5b5-0de1-4c03-be17-99c5bca8fed8"
      },
      "execution_count": 25,
      "outputs": [
        {
          "output_type": "stream",
          "name": "stdout",
          "text": [
            "result: 5.0\n",
            "value: 20\n",
            "error: division by zero\n",
            "error: index out of range\n"
          ]
        }
      ]
    },
    {
      "cell_type": "code",
      "source": [
        "# if a file exist before attempting to read it in python we can achieve this using the os.path.exist()\n",
        "\n",
        "import os\n",
        "\n",
        "def check_and_read_file(filename):\n",
        "  if os.path.exists(filename):\n",
        "    with open(filename, \"r\") as file:\n",
        "      content = file.read()\n",
        "      print(\"file content:\\n\", content)\n",
        "  else:\n",
        "    print(\"file not found\")\n",
        "\n",
        "\n",
        "filename = \"sample.txt\"\n",
        "\n",
        "\n",
        "with open(filename, \"w\") as f:\n",
        "  f.write(\"hello, this is a test file.\\nit contains multiple lines.\\n\")\n",
        "\n",
        "  check_and_read_file(filename)\n",
        "\n",
        "  check_and_read_file(\"non_existing_file.txt\")\n",
        ""
      ],
      "metadata": {
        "colab": {
          "base_uri": "https://localhost:8080/"
        },
        "id": "l0KsVAnm9b5N",
        "outputId": "3f3c2340-049c-4476-ab59-2db81e254786"
      },
      "execution_count": 26,
      "outputs": [
        {
          "output_type": "stream",
          "name": "stdout",
          "text": [
            "file content:\n",
            " \n",
            "file not found\n"
          ]
        }
      ]
    },
    {
      "cell_type": "code",
      "source": [
        "# program that uses the logging module to log both informational and error message\n",
        "\n",
        "import logging\n",
        "\n",
        "logging.basicconfig(filename=\"app.log\", level=logging.DEBUG, format=\" %(levelname)s - %(message)s\")\n",
        "\n",
        "\n",
        "def divide_numbers(a, b):\n",
        "  try:\n",
        "    result = a / b\n",
        "    logging.info(f\"division successful: {a} / {b} = {result}\")\n",
        "    return result\n",
        "  except ZeroDivisionError:\n",
        "    logging.error(f\"division by zero is not allowed\")\n",
        "    print(\"error: divison by zero is not allowed\")\n",
        "\n",
        "\n",
        "\n",
        "divide_numbers(10, 2)\n",
        "divide_numbers(5, 0)\n",
        "\n",
        "\n",
        "with open(\"app.log\", \"r\") as f:\n",
        "  print(\"\\nlog file content:\")\n",
        "  print(log_file.read())"
      ],
      "metadata": {
        "colab": {
          "base_uri": "https://localhost:8080/",
          "height": 219
        },
        "id": "PsqJBL6A9cAg",
        "outputId": "efeae3c7-1238-437c-9959-1ab15d22d908"
      },
      "execution_count": 27,
      "outputs": [
        {
          "output_type": "error",
          "ename": "AttributeError",
          "evalue": "module 'logging' has no attribute 'basicconfig'",
          "traceback": [
            "\u001b[0;31m---------------------------------------------------------------------------\u001b[0m",
            "\u001b[0;31mAttributeError\u001b[0m                            Traceback (most recent call last)",
            "\u001b[0;32m<ipython-input-27-b282e2cd8c70>\u001b[0m in \u001b[0;36m<cell line: 0>\u001b[0;34m()\u001b[0m\n\u001b[1;32m      3\u001b[0m \u001b[0;32mimport\u001b[0m \u001b[0mlogging\u001b[0m\u001b[0;34m\u001b[0m\u001b[0;34m\u001b[0m\u001b[0m\n\u001b[1;32m      4\u001b[0m \u001b[0;34m\u001b[0m\u001b[0m\n\u001b[0;32m----> 5\u001b[0;31m \u001b[0mlogging\u001b[0m\u001b[0;34m.\u001b[0m\u001b[0mbasicconfig\u001b[0m\u001b[0;34m(\u001b[0m\u001b[0mfilename\u001b[0m\u001b[0;34m=\u001b[0m\u001b[0;34m\"app.log\"\u001b[0m\u001b[0;34m,\u001b[0m \u001b[0mlevel\u001b[0m\u001b[0;34m=\u001b[0m\u001b[0mlogging\u001b[0m\u001b[0;34m.\u001b[0m\u001b[0mDEBUG\u001b[0m\u001b[0;34m,\u001b[0m \u001b[0mformat\u001b[0m\u001b[0;34m=\u001b[0m\u001b[0;34m\" %(levelname)s - %(message)s\"\u001b[0m\u001b[0;34m)\u001b[0m\u001b[0;34m\u001b[0m\u001b[0;34m\u001b[0m\u001b[0m\n\u001b[0m\u001b[1;32m      6\u001b[0m \u001b[0;34m\u001b[0m\u001b[0m\n\u001b[1;32m      7\u001b[0m \u001b[0;34m\u001b[0m\u001b[0m\n",
            "\u001b[0;31mAttributeError\u001b[0m: module 'logging' has no attribute 'basicconfig'"
          ]
        }
      ]
    },
    {
      "cell_type": "code",
      "source": [
        "# print the content of a file and handles the case when the file is empty\n",
        "\n",
        "import os\n",
        "def read_file(filename):\n",
        "  if os.path.exists(filename):\n",
        "    if os.stat(filename).st_size == 0:\n",
        "      print(\"error: the file is empty\")\n",
        "    else:\n",
        "      with open(filename, \"r\") as file:\n",
        "        content = file.read()\n",
        "        print(\"file content:\\n\", content)\n",
        "\n",
        "  else:\n",
        "    print(f\"error:the file '{filename}'does not exist.\")\n",
        "\n",
        "\n",
        "filename1 = \"non_empty_file.txt\"\n",
        "filename2 = \"empty_file.txt\"\n",
        "\n",
        "with open(filename1, \"w\") as f:\n",
        "  f.write(\"hello, this is a test a file.\\nit contains some text.\")\n",
        "\n",
        "open(filename2, \"w\").close()\n",
        "\n",
        "read_file(filename1)\n",
        "read_file(filename2)\n",
        "read_file(\"non_existing_file.txt\")"
      ],
      "metadata": {
        "colab": {
          "base_uri": "https://localhost:8080/"
        },
        "id": "lgVCyDIa9cHy",
        "outputId": "4f7ce5c1-679b-410d-910e-7a949c8a059a"
      },
      "execution_count": 28,
      "outputs": [
        {
          "output_type": "stream",
          "name": "stdout",
          "text": [
            "file content:\n",
            " hello, this is a test a file.\n",
            "it contains some text.\n",
            "error: the file is empty\n",
            "error:the file 'non_existing_file.txt'does not exist.\n"
          ]
        }
      ]
    },
    {
      "cell_type": "code",
      "source": [
        "# demonstrate how to use memory profiling to check the memory usage of a small program\n",
        "!pip install memory_profiler\n",
        "\n",
        "from memory_profiler import profile\n",
        "\n",
        "@profile\n",
        "def memory_usage_example():\n",
        "  large_list = [i for i in range(1000000)]\n",
        "  total = sum(large_list)\n",
        "  print(\"sum of first 100,000 numbers: {total}\")\n",
        "\n",
        "memory_usage_example()"
      ],
      "metadata": {
        "colab": {
          "base_uri": "https://localhost:8080/"
        },
        "id": "KLEJv0d59cQi",
        "outputId": "f49e3da9-23af-43d8-b846-af425df30a02"
      },
      "execution_count": 30,
      "outputs": [
        {
          "output_type": "stream",
          "name": "stdout",
          "text": [
            "Collecting memory_profiler\n",
            "  Downloading memory_profiler-0.61.0-py3-none-any.whl.metadata (20 kB)\n",
            "Requirement already satisfied: psutil in /usr/local/lib/python3.11/dist-packages (from memory_profiler) (5.9.5)\n",
            "Downloading memory_profiler-0.61.0-py3-none-any.whl (31 kB)\n",
            "Installing collected packages: memory_profiler\n",
            "Successfully installed memory_profiler-0.61.0\n"
          ]
        },
        {
          "output_type": "stream",
          "name": "stderr",
          "text": [
            "\n",
            "PYDEV DEBUGGER WARNING:\n",
            "sys.settrace() should not be used when the debugger is being used.\n",
            "This may cause the debugger to stop working correctly.\n",
            "If this is needed, please check: \n",
            "http://pydev.blogspot.com/2007/06/why-cant-pydev-debugger-work-with.html\n",
            "to see how to restore the debug tracing back correctly.\n",
            "Call Location:\n",
            "  File \"/usr/local/lib/python3.11/dist-packages/memory_profiler.py\", line 847, in enable\n",
            "    sys.settrace(self.trace_memory_usage)\n",
            "\n"
          ]
        },
        {
          "output_type": "stream",
          "name": "stdout",
          "text": [
            "ERROR: Could not find file <ipython-input-30-3e123ab00552>\n",
            "NOTE: %mprun can only be used on functions defined in physical files, and not in the IPython environment.\n"
          ]
        },
        {
          "output_type": "stream",
          "name": "stderr",
          "text": [
            "\n",
            "PYDEV DEBUGGER WARNING:\n",
            "sys.settrace() should not be used when the debugger is being used.\n",
            "This may cause the debugger to stop working correctly.\n",
            "If this is needed, please check: \n",
            "http://pydev.blogspot.com/2007/06/why-cant-pydev-debugger-work-with.html\n",
            "to see how to restore the debug tracing back correctly.\n",
            "Call Location:\n",
            "  File \"/usr/local/lib/python3.11/dist-packages/memory_profiler.py\", line 850, in disable\n",
            "    sys.settrace(self._original_trace_function)\n",
            "\n"
          ]
        },
        {
          "output_type": "stream",
          "name": "stdout",
          "text": [
            "sum of first 100,000 numbers: {total}\n"
          ]
        }
      ]
    },
    {
      "cell_type": "code",
      "source": [
        "# to create and write a list of numbers to a file one number per line\n",
        "def write_numbers_to_file(filename, numbers):\n",
        "  with open(filename, \"w\") as file:\n",
        "    for number in numbers:\n",
        "      file.write(str(number) + \"\\n\")\n",
        "\n",
        "\n",
        "numbers_list = [10, 20, 30, 40, 50]\n",
        "\n",
        "filename = \"numbers.txt\"\n",
        "\n",
        "write_numbers_to_file(filename, numbers_list)\n",
        "\n",
        "print(f\"numbers have been written to '{filename}'.\")"
      ],
      "metadata": {
        "colab": {
          "base_uri": "https://localhost:8080/"
        },
        "id": "EHzw8Ana9cX_",
        "outputId": "2f7cd2e6-6da0-4cbd-eed9-159375e87593"
      },
      "execution_count": 34,
      "outputs": [
        {
          "output_type": "stream",
          "name": "stdout",
          "text": [
            "numbers have been written to 'numbers.txt'.\n"
          ]
        }
      ]
    },
    {
      "cell_type": "code",
      "source": [
        "# basic logging setup that logs to a file with rotation after 1MB\n",
        "\n",
        "import logging\n",
        "from logging.handlers import RotatingFileHandler\n",
        "\n",
        "log_filename = \"app.log\"\n",
        "\n",
        "handler = RotatingFileHandler(log_filename, maxBytes=1_000_000, backupCount=3)\n",
        "\n",
        "logging.basicConfig(level=logging.INFO, format=\"%(asctime)s - %(levelname)s - %(message)s, handlers=[handler]\")\n",
        "\n",
        "for i in range(1000):\n",
        "  logging.info(f\"this is log message {i}\")\n",
        "\n",
        "print(f\"logging setup complete. logs are stored in '{log_filename}'.\")"
      ],
      "metadata": {
        "colab": {
          "base_uri": "https://localhost:8080/"
        },
        "id": "qh0bp7Gt9cfP",
        "outputId": "73e12942-f7fd-4305-8caa-553a9281d1a2"
      },
      "execution_count": 36,
      "outputs": [
        {
          "output_type": "stream",
          "name": "stdout",
          "text": [
            "logging setup complete. logs are stored in 'app.log'.\n"
          ]
        }
      ]
    },
    {
      "cell_type": "code",
      "source": [
        "# program to handle both indexerror and keyerror using try-except\n",
        "\n",
        "def handle_exceptions():\n",
        "  my_list = [10, 20, 30]\n",
        "  my_dict = {\"a\": 1, \"b\": 2}\n",
        "\n",
        "  try:\n",
        "    print(\"list item:\", my_list[5])\n",
        "\n",
        "    print(\"dictionary item:\", my_dict[\"c\"])\n",
        "\n",
        "  except IndexError:\n",
        "    print(\"error: list index out of range\")\n",
        "\n",
        "  except KeyError:\n",
        "    print(\"error: dictionary key does not exist\")\n",
        "\n",
        "  except exception as e:\n",
        "    print(f\"an unexpected error occurred: {e}\")\n",
        "\n",
        "\n",
        "handle_exceptions()"
      ],
      "metadata": {
        "colab": {
          "base_uri": "https://localhost:8080/"
        },
        "id": "1curSr6L9cnV",
        "outputId": "a6b5a7b3-1e82-4103-ff66-96e20e50c8aa"
      },
      "execution_count": 37,
      "outputs": [
        {
          "output_type": "stream",
          "name": "stdout",
          "text": [
            "error: list index out of range\n"
          ]
        }
      ]
    },
    {
      "cell_type": "code",
      "source": [
        "# to open a file and read its content using a context manager\n",
        "\n",
        "def read_files_with_context(filename):\n",
        "  try:\n",
        "    with open(filename, \"r\") as file:\n",
        "      content = file.read()\n",
        "      print(\"file content:\\n\", content)\n",
        "  except FileNotFoundError:\n",
        "    print(f\"error: the file '{filename}' was not found.\")\n",
        "  except Exception as e:\n",
        "    print(f\"an unexpected error occurred: {e}\")\n",
        "\n",
        "\n",
        "filename = \"sample.txt\"\n",
        "\n",
        "with open(filename, \"w\") as file:\n",
        "  file.write(\"hello, this is a test file.\\nwelcome to pythin file handling.\")\n",
        "\n",
        "\n",
        "\n",
        "read_files_with_context(filename)\n",
        "read_files_with_context(\"non_existing_file.txt\")"
      ],
      "metadata": {
        "colab": {
          "base_uri": "https://localhost:8080/"
        },
        "id": "U_7OxQwR9cuW",
        "outputId": "f19ffcf6-47e2-461f-bc88-41fb4c4bc31c"
      },
      "execution_count": 42,
      "outputs": [
        {
          "output_type": "stream",
          "name": "stdout",
          "text": [
            "file content:\n",
            " hello, this is a test file.\n",
            "welcome to pythin file handling.\n",
            "error: the file 'non_existing_file.txt' was not found.\n"
          ]
        }
      ]
    },
    {
      "cell_type": "code",
      "source": [
        "# program to read a file and count number occurances of a specific word\n",
        "\n",
        "def count_word_occurances(filename, word):\n",
        "  try:\n",
        "    with open(filename, \"r\") as file:\n",
        "      content = file.read()\n",
        "      word_count = content.lower().spilt().count(word.lower())\n",
        "      print(f\"the word '{word}' appears {word_count} times in '{filename}'.\")\n",
        "  except FileNotFoundError:\n",
        "    print(f\"error: the file '{filename}' was not found.\")\n",
        "  except Exception as e:\n",
        "    print(f\"an unexpected error occurred: {e}\")\n",
        "\n",
        "filename = \"sample.txt\"\n",
        "word_to_count =  \"python\"\n",
        "\n",
        "with open(filename, \"w\") as file:\n",
        "  file.write(\"python is a powerful language. python is widely used. i love python!\")\n",
        "\n",
        "count_word_occurances(filename, word_to_count)\n"
      ],
      "metadata": {
        "colab": {
          "base_uri": "https://localhost:8080/"
        },
        "id": "1bdqeWp89c1c",
        "outputId": "9cc7a142-7f33-48f3-ea63-ed65b82f7f33"
      },
      "execution_count": 43,
      "outputs": [
        {
          "output_type": "stream",
          "name": "stdout",
          "text": [
            "an unexpected error occurred: 'str' object has no attribute 'spilt'\n"
          ]
        }
      ]
    },
    {
      "cell_type": "code",
      "source": [
        "# program to check a file is empty before reading its content\n",
        "\n",
        "import os\n",
        "def is_file_empty(filename):\n",
        "  try:\n",
        "    if not os.path.exist(filename):\n",
        "      print(f\"error: the file '{filename}' does not exist.\")\n",
        "      return True\n",
        "    if os.stat(filename).st_size == 0:\n",
        "      print(f\"the filename '{filename}' is empty.\")\n",
        "      return True\n",
        "    else:\n",
        "      print(f\"the file '{filename}'is not empty.\")\n",
        "      return False\n",
        "  except Exception as e:\n",
        "    print(f\"an unexpected error occurred: {e}\")\n",
        "    return True\n",
        "\n",
        "\n",
        "filename = \"test_file.txt\"\n",
        "\n",
        "open(filename, \"w\").close()\n",
        "\n",
        "is_file_empty(filename)"
      ],
      "metadata": {
        "colab": {
          "base_uri": "https://localhost:8080/"
        },
        "id": "p6u-qpYs9c9O",
        "outputId": "8d87164b-5458-4d54-941c-9c37134e01dd"
      },
      "execution_count": 44,
      "outputs": [
        {
          "output_type": "stream",
          "name": "stdout",
          "text": [
            "an unexpected error occurred: module 'posixpath' has no attribute 'exist'\n"
          ]
        },
        {
          "output_type": "execute_result",
          "data": {
            "text/plain": [
              "True"
            ]
          },
          "metadata": {},
          "execution_count": 44
        }
      ]
    },
    {
      "cell_type": "code",
      "source": [
        "# to write to a log file when an error occurs during file handling\n",
        "\n",
        "import logging\n",
        "\n",
        "log_filename = \"error_log.txt\"\n",
        "\n",
        "logging.basicConfig(filename=log_filename, level=logging.ERROR, format=\"%(asctime)s - %(levelname)s - %(message)s\")\n",
        "\n",
        "\n",
        "def read_file(filename):\n",
        "  try:\n",
        "    with open(filename, \"r\") as file:\n",
        "      content = file.read()\n",
        "      print(\"file content:\\n\", content)\n",
        "  except FileNotFoundError:\n",
        "    logging.error(f\"error: the file '{filename}' was not found.\")\n",
        "    print(f\"error: the file '{filename}' was not found.\")\n",
        "  except PermissionError:\n",
        "    logging.error(f\"error: you dont have permission to access the file '{filename}'.\")\n",
        "    print(f\"error: you dont have permission to access the file '{filename}'.\")\n",
        "  except Exception as e:\n",
        "    logging.error(f\"an unexpected error occurred: {e}\")\n",
        "    print(f\"an unexpected error occurred.check the log file for details.\")\n",
        "\n",
        "filename = \"non_existing_file.txt\"\n",
        "read_file(filename)\n",
        "\n",
        "\n"
      ],
      "metadata": {
        "colab": {
          "base_uri": "https://localhost:8080/"
        },
        "id": "kxOBAkev9dGV",
        "outputId": "e4b255ef-b829-45a2-d405-e5f081781e7e"
      },
      "execution_count": 46,
      "outputs": [
        {
          "output_type": "stream",
          "name": "stderr",
          "text": [
            "ERROR:root:error: the file 'non_existing_file.txt' was not found.\n"
          ]
        },
        {
          "output_type": "stream",
          "name": "stdout",
          "text": [
            "error: the file 'non_existing_file.txt' was not found.\n"
          ]
        }
      ]
    }
  ]
}